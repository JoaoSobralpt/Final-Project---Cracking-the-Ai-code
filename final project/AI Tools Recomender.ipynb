{
 "cells": [
  {
   "cell_type": "code",
   "execution_count": 9,
   "id": "880b10ec-423a-48dc-ad16-d5c3c0941272",
   "metadata": {
    "tags": []
   },
   "outputs": [],
   "source": [
    "import pandas as pd\n",
    "from IPython.display import display, HTML"
   ]
  },
  {
   "cell_type": "code",
   "execution_count": 10,
   "id": "dbba0f7d-87f2-43df-87b6-5ed3d72a53ec",
   "metadata": {
    "tags": []
   },
   "outputs": [],
   "source": [
    "smalldf = pd.read_csv('smalldf.csv')"
   ]
  },
  {
   "cell_type": "code",
   "execution_count": 11,
   "id": "0d88cec9-05b5-47b1-b49b-a38c098071b2",
   "metadata": {
    "tags": []
   },
   "outputs": [
    {
     "name": "stdout",
     "output_type": "stream",
     "text": [
      "Available categories:\n",
      "Generative Code, Image Improvement, Copywriting, Generative Art, Chat, Productivity, Voice Modulation, Text-To-Speech, Self-Improvement, Prompt Guides, Marketing, Generative Video, Translation, For Fun, Music, Video Editing, Avatar, Finance, Research, Inspiration, Aggregators, AI Detection, Social Media, Speech-To-Text, Image Scanning, Motion Capture, Gaming, Text-To-Video, Podcasting\n"
     ]
    },
    {
     "name": "stdin",
     "output_type": "stream",
     "text": [
      "Enter the category you're interested in:  Podcasting\n"
     ]
    },
    {
     "data": {
      "text/html": [
       "<p><strong>Audo AI</strong> - AI Powered Background Noise Removal<br>Upvotes: 25</p><img src=\"https://uploads-ssl.webflow.com/63994dae1033718bee6949ce/63b9e28c6fa9a28e55cc6687_qtpb8td9wpmynlrs.svg\" alt=\"Audo AI\" style=\"max-width:300px;\"/><br><br><p><strong>Castmagic</strong> - An automated post-production tool to streamline podcast creation.<br>Upvotes: 14</p><img src=\"https://uploads-ssl.webflow.com/63994dae1033718bee6949ce/63ebff115d7632867aa81895_63ba04a618d4e06dad2beab1_castmagicpreview.png\" alt=\"Castmagic\" style=\"max-width:300px;\"/><br><br><p><strong>Podcastle</strong> - Studio-quality recording and AI-editing for podcasts<br>Upvotes: 12</p><img src=\"https://uploads-ssl.webflow.com/63994dae1033718bee6949ce/63a6134f65217b84ce27006a_podcastle.jpeg\" alt=\"Podcastle\" style=\"max-width:300px;\"/><br><br><p><strong>Sonix</strong> - A tool for transcription, translation, and subtitling.<br>Upvotes: 10</p><img src=\"https://uploads-ssl.webflow.com/63994dae1033718bee6949ce/63ed4ffb6c96ba55ecf82a19_sonix-share-image.jpeg\" alt=\"Sonix\" style=\"max-width:300px;\"/><br><br><p><strong>Auphonic</strong> - Automatic audio post production<br>Upvotes: 10</p><img src=\"https://uploads-ssl.webflow.com/63994dae1033718bee6949ce/63d962cccddb509f37694ecf_Screenshot-1-31-2023-10.49.35%20AM.png\" alt=\"Auphonic\" style=\"max-width:300px;\"/><br><br><p><strong>Cleanvoice AI</strong> - A tool for audio editing, remove filler sounds, stuttering, mouth sounds, and other artifacts from audio recordings.<br>Upvotes: 9</p><img src=\"https://uploads-ssl.webflow.com/63994dae1033718bee6949ce/63e9e2cffa5f3db2faf79908_cleanvoice-logo.png\" alt=\"Cleanvoice AI\" style=\"max-width:300px;\"/><br><br><p><strong>SteosVoice</strong> - A tool to create neural voices and monetize their voices.<br>Upvotes: 7</p><img src=\"https://uploads-ssl.webflow.com/63994dae1033718bee6949ce/63f757045952154e808b4edc_steosvoice-cybervoice-logo.png\" alt=\"SteosVoice\" style=\"max-width:300px;\"/><br><br><p><strong>Synthesis YouTube</strong> - A tool to find relevant podcast segments.<br>Upvotes: 7</p><img src=\"https://uploads-ssl.webflow.com/63994dae1033718bee6949ce/63fdad0c16fbb984da7a267d_synthesis-youtube-logo.png\" alt=\"Synthesis YouTube\" style=\"max-width:300px;\"/><br><br>"
      ],
      "text/plain": [
       "<IPython.core.display.HTML object>"
      ]
     },
     "metadata": {},
     "output_type": "display_data"
    }
   ],
   "source": [
    "import pandas as pd\n",
    "from IPython.display import display, HTML\n",
    "\n",
    "\n",
    "available_categories = smalldf['category'].unique()\n",
    "category_list = \", \".join(available_categories)\n",
    "\n",
    "print(\"Available categories:\")\n",
    "print(category_list)\n",
    "\n",
    "selected_category = input(\"Enter the category you're interested in: \")\n",
    "\n",
    "# Filter 'smalldf' based on the selected category\n",
    "filtered_df = smalldf[smalldf['category'] == selected_category]\n",
    "\n",
    "if not filtered_df.empty:\n",
    "    # Sort filtered_df by upvotes in descending order to get the most upvoted tools\n",
    "    recommended_tools = filtered_df.sort_values(by='upvotes', ascending=False)\n",
    "\n",
    "    # Create an HTML string to display the tool names, descriptions, upvotes, and images\n",
    "    html_str = \"\"\n",
    "    for index, row in recommended_tools.iterrows():\n",
    "        tool_name = row['tool_name']\n",
    "        tool_description = row['tool_description']\n",
    "        upvotes = row['upvotes']\n",
    "        tool_image_url = row['tool_mage_url']\n",
    "        # Add the tool information and image to the HTML string\n",
    "        html_str += f\"<p><strong>{tool_name}</strong> - {tool_description}<br>Upvotes: {upvotes}</p>\"\n",
    "        html_str += f'<img src=\"{tool_image_url}\" alt=\"{tool_name}\" style=\"max-width:300px;\"/><br><br>'\n",
    "\n",
    "    # Display the HTML string\n",
    "    display(HTML(html_str))\n",
    "else:\n",
    "    print(f\"No tools found in the '{selected_category}' category.\")\n"
   ]
  },
  {
   "cell_type": "code",
   "execution_count": null,
   "id": "30a999a2-69f7-4a47-8e18-4141b3fd2bfd",
   "metadata": {},
   "outputs": [],
   "source": []
  }
 ],
 "metadata": {
  "kernelspec": {
   "display_name": "Python 3 (ipykernel)",
   "language": "python",
   "name": "python3"
  },
  "language_info": {
   "codemirror_mode": {
    "name": "ipython",
    "version": 3
   },
   "file_extension": ".py",
   "mimetype": "text/x-python",
   "name": "python",
   "nbconvert_exporter": "python",
   "pygments_lexer": "ipython3",
   "version": "3.11.3"
  }
 },
 "nbformat": 4,
 "nbformat_minor": 5
}
